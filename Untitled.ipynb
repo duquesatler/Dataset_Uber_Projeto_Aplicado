{
 "cells": [
  {
   "cell_type": "markdown",
   "id": "26a8fa27",
   "metadata": {},
   "source": [
    "# ANÁLISE EXPLORATÓRIA DE DADOS\n"
   ]
  },
  {
   "cell_type": "markdown",
   "id": "0d42f720",
   "metadata": {},
   "source": [
    "### Importação de bibliotecas"
   ]
  },
  {
   "cell_type": "code",
   "execution_count": 1,
   "id": "c0aa13aa",
   "metadata": {},
   "outputs": [
    {
     "name": "stderr",
     "output_type": "stream",
     "text": [
      "C:\\Users\\phtri\\anaconda3\\lib\\site-packages\\pandas\\core\\computation\\expressions.py:21: UserWarning: Pandas requires version '2.8.4' or newer of 'numexpr' (version '2.7.3' currently installed).\n",
      "  from pandas.core.computation.check import NUMEXPR_INSTALLED\n",
      "C:\\Users\\phtri\\anaconda3\\lib\\site-packages\\pandas\\core\\arrays\\masked.py:60: UserWarning: Pandas requires version '1.3.6' or newer of 'bottleneck' (version '1.3.2' currently installed).\n",
      "  from pandas.core import (\n"
     ]
    }
   ],
   "source": [
    "import pandas as pd\n",
    "import matplotlib.pyplot as plt\n",
    "from scipy import stats\n",
    "import numpy as np\n",
    "import warnings\n",
    "warnings.simplefilter(action='ignore', category=UserWarning)"
   ]
  },
  {
   "cell_type": "markdown",
   "id": "8e75000e",
   "metadata": {},
   "source": [
    "### Leitura do Dataset"
   ]
  },
  {
   "cell_type": "code",
   "execution_count": 2,
   "id": "37b3452e",
   "metadata": {},
   "outputs": [],
   "source": [
    "df = pd.read_csv('UberDataset.csv')"
   ]
  },
  {
   "cell_type": "code",
   "execution_count": 3,
   "id": "bf25c784",
   "metadata": {},
   "outputs": [
    {
     "name": "stdout",
     "output_type": "stream",
     "text": [
      "Número de colunas 1156\n",
      "Número de colunas 7\n"
     ]
    }
   ],
   "source": [
    "print(f'Número de colunas {df.shape[0]}')\n",
    "print(f'Número de colunas {df.shape[1]}')"
   ]
  },
  {
   "cell_type": "markdown",
   "id": "40b16bac",
   "metadata": {},
   "source": [
    "### Linhas sem valor"
   ]
  },
  {
   "cell_type": "code",
   "execution_count": 4,
   "id": "c2efd2bf",
   "metadata": {},
   "outputs": [
    {
     "data": {
      "text/plain": [
       "START_DATE      0\n",
       "END_DATE        1\n",
       "CATEGORY        1\n",
       "START           1\n",
       "STOP            1\n",
       "MILES           0\n",
       "PURPOSE       503\n",
       "dtype: int64"
      ]
     },
     "execution_count": 4,
     "metadata": {},
     "output_type": "execute_result"
    }
   ],
   "source": [
    "df.isnull().sum()"
   ]
  },
  {
   "cell_type": "markdown",
   "id": "a2e517ef",
   "metadata": {},
   "source": [
    "### Tipo de dados"
   ]
  },
  {
   "cell_type": "code",
   "execution_count": 5,
   "id": "49757c9b",
   "metadata": {},
   "outputs": [
    {
     "data": {
      "text/plain": [
       "START_DATE     object\n",
       "END_DATE       object\n",
       "CATEGORY       object\n",
       "START          object\n",
       "STOP           object\n",
       "MILES         float64\n",
       "PURPOSE        object\n",
       "dtype: object"
      ]
     },
     "execution_count": 5,
     "metadata": {},
     "output_type": "execute_result"
    }
   ],
   "source": [
    "df.dtypes"
   ]
  },
  {
   "cell_type": "markdown",
   "id": "f8df2210",
   "metadata": {},
   "source": [
    "### Visualização do final do DataFrame"
   ]
  },
  {
   "cell_type": "code",
   "execution_count": 6,
   "id": "dbdc849a",
   "metadata": {},
   "outputs": [
    {
     "data": {
      "text/html": [
       "<div>\n",
       "<style scoped>\n",
       "    .dataframe tbody tr th:only-of-type {\n",
       "        vertical-align: middle;\n",
       "    }\n",
       "\n",
       "    .dataframe tbody tr th {\n",
       "        vertical-align: top;\n",
       "    }\n",
       "\n",
       "    .dataframe thead th {\n",
       "        text-align: right;\n",
       "    }\n",
       "</style>\n",
       "<table border=\"1\" class=\"dataframe\">\n",
       "  <thead>\n",
       "    <tr style=\"text-align: right;\">\n",
       "      <th></th>\n",
       "      <th>START_DATE</th>\n",
       "      <th>END_DATE</th>\n",
       "      <th>CATEGORY</th>\n",
       "      <th>START</th>\n",
       "      <th>STOP</th>\n",
       "      <th>MILES</th>\n",
       "      <th>PURPOSE</th>\n",
       "    </tr>\n",
       "  </thead>\n",
       "  <tbody>\n",
       "    <tr>\n",
       "      <th>1151</th>\n",
       "      <td>12/31/2016 13:24</td>\n",
       "      <td>12/31/2016 13:42</td>\n",
       "      <td>Business</td>\n",
       "      <td>Kar?chi</td>\n",
       "      <td>Unknown Location</td>\n",
       "      <td>3.9</td>\n",
       "      <td>Temporary Site</td>\n",
       "    </tr>\n",
       "    <tr>\n",
       "      <th>1152</th>\n",
       "      <td>12/31/2016 15:03</td>\n",
       "      <td>12/31/2016 15:38</td>\n",
       "      <td>Business</td>\n",
       "      <td>Unknown Location</td>\n",
       "      <td>Unknown Location</td>\n",
       "      <td>16.2</td>\n",
       "      <td>Meeting</td>\n",
       "    </tr>\n",
       "    <tr>\n",
       "      <th>1153</th>\n",
       "      <td>12/31/2016 21:32</td>\n",
       "      <td>12/31/2016 21:50</td>\n",
       "      <td>Business</td>\n",
       "      <td>Katunayake</td>\n",
       "      <td>Gampaha</td>\n",
       "      <td>6.4</td>\n",
       "      <td>Temporary Site</td>\n",
       "    </tr>\n",
       "    <tr>\n",
       "      <th>1154</th>\n",
       "      <td>12/31/2016 22:08</td>\n",
       "      <td>12/31/2016 23:51</td>\n",
       "      <td>Business</td>\n",
       "      <td>Gampaha</td>\n",
       "      <td>Ilukwatta</td>\n",
       "      <td>48.2</td>\n",
       "      <td>Temporary Site</td>\n",
       "    </tr>\n",
       "    <tr>\n",
       "      <th>1155</th>\n",
       "      <td>Totals</td>\n",
       "      <td>NaN</td>\n",
       "      <td>NaN</td>\n",
       "      <td>NaN</td>\n",
       "      <td>NaN</td>\n",
       "      <td>12204.7</td>\n",
       "      <td>NaN</td>\n",
       "    </tr>\n",
       "  </tbody>\n",
       "</table>\n",
       "</div>"
      ],
      "text/plain": [
       "            START_DATE          END_DATE  CATEGORY             START  \\\n",
       "1151  12/31/2016 13:24  12/31/2016 13:42  Business           Kar?chi   \n",
       "1152  12/31/2016 15:03  12/31/2016 15:38  Business  Unknown Location   \n",
       "1153  12/31/2016 21:32  12/31/2016 21:50  Business        Katunayake   \n",
       "1154  12/31/2016 22:08  12/31/2016 23:51  Business           Gampaha   \n",
       "1155            Totals               NaN       NaN               NaN   \n",
       "\n",
       "                  STOP    MILES         PURPOSE  \n",
       "1151  Unknown Location      3.9  Temporary Site  \n",
       "1152  Unknown Location     16.2         Meeting  \n",
       "1153           Gampaha      6.4  Temporary Site  \n",
       "1154         Ilukwatta     48.2  Temporary Site  \n",
       "1155               NaN  12204.7             NaN  "
      ]
     },
     "execution_count": 6,
     "metadata": {},
     "output_type": "execute_result"
    }
   ],
   "source": [
    "df.tail()"
   ]
  },
  {
   "cell_type": "markdown",
   "id": "c9606813",
   "metadata": {},
   "source": [
    "### Tratamento dos dados"
   ]
  },
  {
   "cell_type": "code",
   "execution_count": 7,
   "id": "674f4e45",
   "metadata": {},
   "outputs": [],
   "source": [
    "# Tirar linha que possui o valor Total\n",
    "df = df.drop(df.index[-1]) \n"
   ]
  },
  {
   "cell_type": "code",
   "execution_count": 8,
   "id": "c54c90cc",
   "metadata": {},
   "outputs": [],
   "source": [
    "#Deixar dados no mesmo padrão\n",
    "df['START_DATE'] = df['START_DATE'].str.replace('/', '-')\n",
    "df['END_DATE'] = df['END_DATE'].str.replace('/', '-')\n",
    "\n",
    "#Colocar coluna no tipo de dado \"datetime\"\n",
    "df['START_DATE'] = pd.to_datetime(df['START_DATE'], format='%m-%d-%Y %H:%M')\n",
    "df['END_DATE'] = pd.to_datetime(df['END_DATE'], format='%m-%d-%Y %H:%M')"
   ]
  },
  {
   "cell_type": "code",
   "execution_count": 9,
   "id": "5ed72a88",
   "metadata": {},
   "outputs": [],
   "source": [
    "#Criação de nova coluna\n",
    "df['TEMPO_CORRIDA'] = (df['END_DATE'] - df['START_DATE']).dt.total_seconds() / 60"
   ]
  },
  {
   "cell_type": "code",
   "execution_count": 10,
   "id": "0c3ba018",
   "metadata": {},
   "outputs": [],
   "source": [
    "#Deixando somente as corridas que possuem tempo maior que 0\n",
    "df = df[df['TEMPO_CORRIDA'] > 0]"
   ]
  },
  {
   "cell_type": "code",
   "execution_count": 11,
   "id": "99f9a889",
   "metadata": {},
   "outputs": [],
   "source": [
    "#Criando coluans mes e nome do mes\n",
    "df[\"MES\"] = df[\"START_DATE\"].dt.month\n",
    "df[\"MES_NOME\"] = df[\"START_DATE\"].dt.month_name()\n"
   ]
  },
  {
   "cell_type": "markdown",
   "id": "ae4daca5",
   "metadata": {},
   "source": [
    "# Criação de gráficos"
   ]
  },
  {
   "cell_type": "code",
   "execution_count": 12,
   "id": "8d8cfb81",
   "metadata": {},
   "outputs": [
    {
     "name": "stdout",
     "output_type": "stream",
     "text": [
      "Tempo médio das corridas: 23.32 minutos\n",
      "Distancia média percorrida: 10.54 milhas\n"
     ]
    }
   ],
   "source": [
    "print(f'Tempo médio das corridas: {df[\"TEMPO_CORRIDA\"].mean():.2f} minutos')\n",
    "print(f'Distancia média percorrida: {df[\"MILES\"].mean():.2f} milhas')"
   ]
  },
  {
   "cell_type": "code",
   "execution_count": 13,
   "id": "aa1d61b7",
   "metadata": {},
   "outputs": [
    {
     "data": {
      "image/png": "[encoded data removed]",
      "text/plain": [
       "<Figure size 432x288 with 1 Axes>"
      ]
     },
     "metadata": {
      "needs_background": "light"
     },
     "output_type": "display_data"
    }
   ],
   "source": [
    "#Agrupando valores por mês\n",
    "df_mes = df[['MES','MES_NOME','TEMPO_CORRIDA']].groupby(['MES','MES_NOME']).count().reset_index().sort_values(by='MES')\n",
    "\n",
    "# Criando o gráfico de barras\n",
    "plt.bar(df_mes[\"MES_NOME\"], df_mes[\"TEMPO_CORRIDA\"], color='skyblue')\n",
    "\n",
    "# Adicionando título e rótulos\n",
    "plt.title(\"Gráfico de Barras\")\n",
    "plt.xlabel(\"Mes\")\n",
    "plt.ylabel(\"Quantidade de Corridas\")\n",
    "plt.xticks(rotation=45) \n",
    "\n",
    "# Exibindo o gráfico\n",
    "plt.show()"
   ]
  },
  {
   "cell_type": "code",
   "execution_count": 14,
   "id": "7af51824",
   "metadata": {},
   "outputs": [
    {
     "data": {
      "image/png": "[encoded data removed]",
      "text/plain": [
       "<Figure size 432x216 with 1 Axes>"
      ]
     },
     "metadata": {
      "needs_background": "light"
     },
     "output_type": "display_data"
    }
   ],
   "source": [
    "valores_unicos = list(df[\"CATEGORY\"].unique())\n",
    "category_counts = df[\"CATEGORY\"].value_counts()\n",
    "\n",
    "porcen_bus = (category_counts.iloc[0] / category_counts.sum()).round(4) * 100\n",
    "porcen_pers = (category_counts.iloc[1] / category_counts.sum()).round(4) * 100\n",
    "\n",
    "\n",
    "# Criando o gráfico de barras horizontais\n",
    "plt.figure(figsize=(6,3))\n",
    "plt.barh(valores_unicos, [porcen_bus,porcen_pers], color=['blue', 'orange'])\n",
    "plt.xlabel('Porcentagem')\n",
    "plt.title('Distribuição das categorias')\n",
    "\n",
    "# Exibir valores dentro das barras\n",
    "for index, value in enumerate([porcen_bus,porcen_pers]):\n",
    "    plt.text(value + 1, index, f'{value}%', va='center')\n",
    "\n",
    "# Exibir gráfico\n",
    "plt.xlim(0, 100)\n",
    "plt.show()"
   ]
  },
  {
   "cell_type": "code",
   "execution_count": 15,
   "id": "0828696c",
   "metadata": {},
   "outputs": [
    {
     "data": {
      "image/png": "[encoded data removed]",
      "text/plain": [
       "<Figure size 576x360 with 1 Axes>"
      ]
     },
     "metadata": {
      "needs_background": "light"
     },
     "output_type": "display_data"
    }
   ],
   "source": [
    "# Contar quantas viagens ocorreram em cada cidade de partida (\"START\")\n",
    "top_cities = df[\"START\"].value_counts().nlargest(10)  # Pega as 10 cidades mais frequentes\n",
    "\n",
    "# Criando o gráfico de barras\n",
    "plt.figure(figsize=(8,5))\n",
    "plt.barh(top_cities.index, top_cities.values, color='royalblue')\n",
    "plt.xlabel('Quantidade de viagens')\n",
    "plt.ylabel('Cidade')\n",
    "plt.title('Top 10 cidades com mais viagens')\n",
    "\n",
    "# Adicionar os valores dentro das barras\n",
    "for index, value in enumerate(top_cities.values):\n",
    "    plt.text(value + 1, index, str(value), va='center')\n",
    "\n",
    "plt.gca().invert_yaxis()  # Inverte a ordem para a maior cidade ficar no topo\n",
    "plt.show()"
   ]
  },
  {
   "cell_type": "code",
   "execution_count": 16,
   "id": "9b24a738",
   "metadata": {},
   "outputs": [
    {
     "data": {
      "image/png": "[encoded data removed]",
      "text/plain": [
       "<Figure size 432x576 with 1 Axes>"
      ]
     },
     "metadata": {
      "needs_background": "light"
     },
     "output_type": "display_data"
    }
   ],
   "source": [
    "# Remover valores nulos\n",
    "dados = df['MILES']\n",
    "\n",
    "# Calcular estatísticas do boxplot\n",
    "q1 = np.percentile(dados, 25)\n",
    "q3 = np.percentile(dados, 75)\n",
    "mediana = np.median(dados)\n",
    "minimo = dados.min()\n",
    "maximo = dados.max()\n",
    "iqr = q3 - q1  # Intervalo interquartil\n",
    "\n",
    "# Definir limites para outliers (1.5 * IQR)\n",
    "limite_inferior = q1 - 1.5 * iqr\n",
    "limite_superior = q3 + 1.5 * iqr\n",
    "\n",
    "# Criar boxplot\n",
    "plt.figure(figsize=(6, 8))\n",
    "plt.boxplot(dados, vert=True, patch_artist=True, boxprops=dict(facecolor=\"lightblue\"))\n",
    "\n",
    "# Adicionar caixa de texto no canto superior direito\n",
    "texto = (f\"Q1: {q1:.2f}\\nQ3: {q3:.2f}\\nMediana: {mediana:.2f}\\n\"\n",
    "         f\"Mínimo: {minimo:.2f}\\nMáximo: {maximo:.2f}\")\n",
    "\n",
    "plt.gca().text(1.2, maximo, texto, fontsize=12, verticalalignment='top', \n",
    "               bbox=dict(facecolor='white', alpha=0.8))\n",
    "\n",
    "# Adicionar rótulos\n",
    "plt.ylabel(\"MILES\")\n",
    "plt.title(\"Boxplot de MILES com Estatísticas\")\n",
    "\n",
    "# Mostrar gráfico\n",
    "plt.show()\n"
   ]
  }
 ],
 "metadata": {
  "kernelspec": {
   "display_name": "Python 3 (ipykernel)",
   "language": "python",
   "name": "python3"
  },
  "language_info": {
   "codemirror_mode": {
    "name": "ipython",
    "version": 3
   },
   "file_extension": ".py",
   "mimetype": "text/x-python",
   "name": "python",
   "nbconvert_exporter": "python",
   "pygments_lexer": "ipython3",
   "version": "3.9.7"
  }
 },
 "nbformat": 4,
 "nbformat_minor": 5
}
